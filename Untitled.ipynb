{
 "cells": [
  {
   "cell_type": "code",
   "execution_count": 1,
   "metadata": {},
   "outputs": [],
   "source": [
    "import sqlite3\n",
    "import pandas as pd"
   ]
  },
  {
   "cell_type": "code",
   "execution_count": 15,
   "metadata": {},
   "outputs": [],
   "source": [
    "dbfile = r\"database_macae.db\"\n",
    "conn = sqlite3.connect(dbfile)"
   ]
  },
  {
   "cell_type": "code",
   "execution_count": 42,
   "metadata": {},
   "outputs": [
    {
     "data": {
      "text/html": [
       "<div>\n",
       "<style scoped>\n",
       "    .dataframe tbody tr th:only-of-type {\n",
       "        vertical-align: middle;\n",
       "    }\n",
       "\n",
       "    .dataframe tbody tr th {\n",
       "        vertical-align: top;\n",
       "    }\n",
       "\n",
       "    .dataframe thead th {\n",
       "        text-align: right;\n",
       "    }\n",
       "</style>\n",
       "<table border=\"1\" class=\"dataframe\">\n",
       "  <thead>\n",
       "    <tr style=\"text-align: right;\">\n",
       "      <th></th>\n",
       "      <th>index</th>\n",
       "      <th>nome</th>\n",
       "      <th>cpf/cnpj</th>\n",
       "      <th>antes_depois</th>\n",
       "      <th>contrato</th>\n",
       "      <th>tipo</th>\n",
       "    </tr>\n",
       "  </thead>\n",
       "  <tbody>\n",
       "    <tr>\n",
       "      <th>0</th>\n",
       "      <td>0</td>\n",
       "      <td>-</td>\n",
       "      <td>323.446.947-49</td>\n",
       "      <td>1.0</td>\n",
       "      <td>1439924466</td>\n",
       "      <td>PF</td>\n",
       "    </tr>\n",
       "    <tr>\n",
       "      <th>1</th>\n",
       "      <td>1</td>\n",
       "      <td>-</td>\n",
       "      <td>673.888.417-68</td>\n",
       "      <td>2.0</td>\n",
       "      <td>1439924466</td>\n",
       "      <td>PF</td>\n",
       "    </tr>\n",
       "    <tr>\n",
       "      <th>2</th>\n",
       "      <td>2</td>\n",
       "      <td>-</td>\n",
       "      <td>111.989.067- 58</td>\n",
       "      <td>1.0</td>\n",
       "      <td>1440188956</td>\n",
       "      <td>PF</td>\n",
       "    </tr>\n",
       "    <tr>\n",
       "      <th>3</th>\n",
       "      <td>3</td>\n",
       "      <td>-</td>\n",
       "      <td>030.610.177-71</td>\n",
       "      <td>2.0</td>\n",
       "      <td>1440188956</td>\n",
       "      <td>PF</td>\n",
       "    </tr>\n",
       "    <tr>\n",
       "      <th>4</th>\n",
       "      <td>4</td>\n",
       "      <td>-</td>\n",
       "      <td>323.446.947-49</td>\n",
       "      <td>1.0</td>\n",
       "      <td>1440195954</td>\n",
       "      <td>PF</td>\n",
       "    </tr>\n",
       "  </tbody>\n",
       "</table>\n",
       "</div>"
      ],
      "text/plain": [
       "   index nome         cpf/cnpj antes_depois    contrato tipo\n",
       "0      0    -   323.446.947-49          1.0  1439924466   PF\n",
       "1      1    -   673.888.417-68          2.0  1439924466   PF\n",
       "2      2    -  111.989.067- 58          1.0  1440188956   PF\n",
       "3      3    -   030.610.177-71          2.0  1440188956   PF\n",
       "4      4    -   323.446.947-49          1.0  1440195954   PF"
      ]
     },
     "execution_count": 42,
     "metadata": {},
     "output_type": "execute_result"
    }
   ],
   "source": [
    "query = \"select * from contratos\"\n",
    "\n",
    "df = pd.read_sql(query, conn)\n",
    "\n",
    "df.head()"
   ]
  },
  {
   "cell_type": "code",
   "execution_count": 43,
   "metadata": {},
   "outputs": [
    {
     "data": {
      "text/html": [
       "<div>\n",
       "<style scoped>\n",
       "    .dataframe tbody tr th:only-of-type {\n",
       "        vertical-align: middle;\n",
       "    }\n",
       "\n",
       "    .dataframe tbody tr th {\n",
       "        vertical-align: top;\n",
       "    }\n",
       "\n",
       "    .dataframe thead th {\n",
       "        text-align: right;\n",
       "    }\n",
       "</style>\n",
       "<table border=\"1\" class=\"dataframe\">\n",
       "  <thead>\n",
       "    <tr style=\"text-align: right;\">\n",
       "      <th></th>\n",
       "      <th>index</th>\n",
       "      <th>nome</th>\n",
       "      <th>cpf/cnpj</th>\n",
       "      <th>antes_depois</th>\n",
       "      <th>contrato</th>\n",
       "      <th>tipo</th>\n",
       "    </tr>\n",
       "  </thead>\n",
       "  <tbody>\n",
       "    <tr>\n",
       "      <th>0</th>\n",
       "      <td>0</td>\n",
       "      <td>-</td>\n",
       "      <td>323.446.947-49</td>\n",
       "      <td>1.0</td>\n",
       "      <td>1439924466</td>\n",
       "      <td>PF</td>\n",
       "    </tr>\n",
       "    <tr>\n",
       "      <th>1</th>\n",
       "      <td>1</td>\n",
       "      <td>-</td>\n",
       "      <td>673.888.417-68</td>\n",
       "      <td>2.0</td>\n",
       "      <td>1439924466</td>\n",
       "      <td>PF</td>\n",
       "    </tr>\n",
       "    <tr>\n",
       "      <th>1759</th>\n",
       "      <td>0</td>\n",
       "      <td>-</td>\n",
       "      <td>04.184.159/0001-64</td>\n",
       "      <td>-</td>\n",
       "      <td>1439924466</td>\n",
       "      <td>PJ</td>\n",
       "    </tr>\n",
       "    <tr>\n",
       "      <th>3703</th>\n",
       "      <td>1944</td>\n",
       "      <td>MACABULAB COMÉRCIO DE EQUIPAMENTOS HOSPITALARE...</td>\n",
       "      <td>06.180.014/0001-10</td>\n",
       "      <td>-</td>\n",
       "      <td>1439924466</td>\n",
       "      <td>PJ</td>\n",
       "    </tr>\n",
       "  </tbody>\n",
       "</table>\n",
       "</div>"
      ],
      "text/plain": [
       "      index                                               nome  \\\n",
       "0         0                                                  -   \n",
       "1         1                                                  -   \n",
       "1759      0                                                  -   \n",
       "3703   1944  MACABULAB COMÉRCIO DE EQUIPAMENTOS HOSPITALARE...   \n",
       "\n",
       "                cpf/cnpj antes_depois    contrato tipo  \n",
       "0         323.446.947-49          1.0  1439924466   PF  \n",
       "1         673.888.417-68          2.0  1439924466   PF  \n",
       "1759  04.184.159/0001-64            -  1439924466   PJ  \n",
       "3703  06.180.014/0001-10            -  1439924466   PJ  "
      ]
     },
     "execution_count": 43,
     "metadata": {},
     "output_type": "execute_result"
    }
   ],
   "source": [
    "df[df.contrato==1439924466]"
   ]
  }
 ],
 "metadata": {
  "kernelspec": {
   "display_name": "Python 3",
   "language": "python",
   "name": "python3"
  },
  "language_info": {
   "codemirror_mode": {
    "name": "ipython",
    "version": 3
   },
   "file_extension": ".py",
   "mimetype": "text/x-python",
   "name": "python",
   "nbconvert_exporter": "python",
   "pygments_lexer": "ipython3",
   "version": "3.7.6"
  }
 },
 "nbformat": 4,
 "nbformat_minor": 4
}

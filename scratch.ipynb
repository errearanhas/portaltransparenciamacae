{
 "cells": [
  {
   "cell_type": "code",
   "execution_count": 1,
   "metadata": {},
   "outputs": [],
   "source": [
    "import pandas as pd\n",
    "import urllib.request\n",
    "import shutil\n",
    "import time\n",
    "import requests\n",
    "import os\n",
    "from tqdm import tqdm\n",
    "from bs4 import BeautifulSoup"
   ]
  },
  {
   "cell_type": "code",
   "execution_count": 2,
   "metadata": {},
   "outputs": [],
   "source": [
    "lista = [1,2,4,1,8,10,99,1]"
   ]
  },
  {
   "cell_type": "code",
   "execution_count": 11,
   "metadata": {},
   "outputs": [
    {
     "ename": "NameError",
     "evalue": "name 'output' is not defined",
     "output_type": "error",
     "traceback": [
      "\u001b[0;31m---------------------------------------------------------------------------\u001b[0m",
      "\u001b[0;31mNameError\u001b[0m                                 Traceback (most recent call last)",
      "\u001b[0;32m<ipython-input-11-b0f525dd5684>\u001b[0m in \u001b[0;36m<module>\u001b[0;34m\u001b[0m\n\u001b[0;32m----> 1\u001b[0;31m \u001b[0mprint\u001b[0m\u001b[0;34m(\u001b[0m\u001b[0moutput\u001b[0m\u001b[0;34m.\u001b[0m\u001b[0mdecode\u001b[0m\u001b[0;34m(\u001b[0m\u001b[0;34m)\u001b[0m\u001b[0;34m)\u001b[0m\u001b[0;34m\u001b[0m\u001b[0;34m\u001b[0m\u001b[0m\n\u001b[0m",
      "\u001b[0;31mNameError\u001b[0m: name 'output' is not defined"
     ]
    }
   ],
   "source": [
    "print(output.decode())"
   ]
  },
  {
   "cell_type": "code",
   "execution_count": 12,
   "metadata": {},
   "outputs": [
    {
     "name": "stdout",
     "output_type": "stream",
     "text": [
      "19\r"
     ]
    }
   ],
   "source": [
    "blank = '                                                        '\n",
    "for i in lista:\n",
    "    print(i, end='\\r')"
   ]
  },
  {
   "cell_type": "code",
   "execution_count": 3,
   "metadata": {},
   "outputs": [],
   "source": [
    "def get_url_pdfs(contratos):\n",
    "    links_pdfs = []\n",
    "    links_outros = []\n",
    "    urls = contratos.url\n",
    "    urls = tqdm(urls)\n",
    "    for i in urls:\n",
    "        urls.set_description(\"Processing %s\" % i, refresh=True)\n",
    "        r = requests.get(i)\n",
    "        soup = BeautifulSoup(r.content, 'lxml')\n",
    "        pdf = soup.find(id='anexo1').find_all('a')[0]['href']\n",
    "        if pdf:\n",
    "            one_pdf = 'http://sistemas.macae.rj.gov.br:84' + pdf\n",
    "            links_pdfs.append(one_pdf)\n",
    "        else:\n",
    "            links_pdfs.append('-')\n",
    "            links_outros.append(i)\n",
    "    return links_pdfs, links_outros"
   ]
  },
  {
   "cell_type": "code",
   "execution_count": 4,
   "metadata": {},
   "outputs": [],
   "source": [
    "def download_file(url, path='./'):\n",
    "    file_name = path + url.split('/')[-1]\n",
    "    # Download the file from `url` and save it locally under `file_name`:\n",
    "    with urllib.request.urlopen(url) as response, open(file_name, 'wb') as out_file:\n",
    "        shutil.copyfileobj(response, out_file)\n",
    "    return file_name"
   ]
  },
  {
   "cell_type": "code",
   "execution_count": 5,
   "metadata": {},
   "outputs": [],
   "source": [
    "def main():\n",
    "    print('Processo Iniciado ---- ' + time.ctime(time.time()))\n",
    "    contratos = pd.read_csv('full_table_contratos.csv').head(40)\n",
    "    links_pdfs, links_outros = get_url_pdfs(contratos)\n",
    "    contratos['pdf_url_contrato'] = links_pdfs\n",
    "    contratos['pdf_file_contrato'] = [i.split('/')[-1] for i in links_pdfs]\n",
    "    contratos.to_csv('full_table_contratos.csv', index=0)\n",
    "\n",
    "    print('Total de documentos: ' + str(len(links_pdfs)))\n",
    "    for i, j in enumerate(links_pdfs):\n",
    "        file = j.split('/')[-1]\n",
    "        if not os.path.exists(folder + str(file)):\n",
    "            try:\n",
    "                download_file(j, path=folder)\n",
    "                print('----> baixando contrato ' + str(i), end=\"\\r\")\n",
    "                print('----> pdf atual: ' + str(j), end=\"\\r\")\n",
    "            except:\n",
    "                continue\n",
    "    print('Captura finalizada ---- ' + time.ctime(time.time()))"
   ]
  },
  {
   "cell_type": "code",
   "execution_count": 11,
   "metadata": {},
   "outputs": [],
   "source": [
    "contratos = pd.read_csv('full_table_contratos.csv').head(10)"
   ]
  },
  {
   "cell_type": "code",
   "execution_count": 12,
   "metadata": {},
   "outputs": [
    {
     "name": "stderr",
     "output_type": "stream",
     "text": [
      "\n",
      "  0%|          | 0/10 [00:00<?, ?it/s]\u001b[A\n",
      "Processing http://sistemas.macae.rj.gov.br:84/transparencia/default/contratacoes/mostrarcontratos?id=1642:   0%|          | 0/10 [00:00<?, ?it/s]\u001b[A\n",
      "Processing http://sistemas.macae.rj.gov.br:84/transparencia/default/contratacoes/mostrarcontratos?id=1642:  10%|█         | 1/10 [00:00<00:04,  1.84it/s]\u001b[A\n",
      "Processing http://sistemas.macae.rj.gov.br:84/transparencia/default/contratacoes/mostrarcontratos?id=1536:  10%|█         | 1/10 [00:00<00:04,  1.84it/s]\u001b[A\n",
      "Processing http://sistemas.macae.rj.gov.br:84/transparencia/default/contratacoes/mostrarcontratos?id=1536:  20%|██        | 2/10 [00:00<00:03,  2.12it/s]\u001b[A\n",
      "Processing http://sistemas.macae.rj.gov.br:84/transparencia/default/contratacoes/mostrarcontratos?id=1532:  20%|██        | 2/10 [00:00<00:03,  2.12it/s]\u001b[A\n",
      "Processing http://sistemas.macae.rj.gov.br:84/transparencia/default/contratacoes/mostrarcontratos?id=1532:  30%|███       | 3/10 [00:01<00:02,  2.36it/s]\u001b[A\n",
      "Processing http://sistemas.macae.rj.gov.br:84/transparencia/default/contratacoes/mostrarcontratos?id=1524:  30%|███       | 3/10 [00:01<00:02,  2.36it/s]\u001b[A\n",
      "Processing http://sistemas.macae.rj.gov.br:84/transparencia/default/contratacoes/mostrarcontratos?id=1524:  40%|████      | 4/10 [00:01<00:02,  2.51it/s]\u001b[A\n",
      "Processing http://sistemas.macae.rj.gov.br:84/transparencia/default/contratacoes/mostrarcontratos?id=1506:  40%|████      | 4/10 [00:01<00:02,  2.51it/s]\u001b[A\n",
      "Processing http://sistemas.macae.rj.gov.br:84/transparencia/default/contratacoes/mostrarcontratos?id=1506:  50%|█████     | 5/10 [00:01<00:02,  2.38it/s]\u001b[A\n",
      "Processing http://sistemas.macae.rj.gov.br:84/transparencia/default/contratacoes/mostrarcontratos?id=1503:  50%|█████     | 5/10 [00:01<00:02,  2.38it/s]\u001b[A\n",
      "Processing http://sistemas.macae.rj.gov.br:84/transparencia/default/contratacoes/mostrarcontratos?id=1503:  60%|██████    | 6/10 [00:02<00:01,  2.42it/s]\u001b[A\n",
      "Processing http://sistemas.macae.rj.gov.br:84/transparencia/default/contratacoes/mostrarcontratos?id=1637:  60%|██████    | 6/10 [00:02<00:01,  2.42it/s]\u001b[A\n",
      "Processing http://sistemas.macae.rj.gov.br:84/transparencia/default/contratacoes/mostrarcontratos?id=1637:  70%|███████   | 7/10 [00:02<00:01,  2.49it/s]\u001b[A\n",
      "Processing http://sistemas.macae.rj.gov.br:84/transparencia/default/contratacoes/mostrarcontratos?id=1630:  70%|███████   | 7/10 [00:02<00:01,  2.49it/s]\u001b[A\n",
      "Processing http://sistemas.macae.rj.gov.br:84/transparencia/default/contratacoes/mostrarcontratos?id=1630:  80%|████████  | 8/10 [00:03<00:00,  2.72it/s]\u001b[A\n",
      "Processing http://sistemas.macae.rj.gov.br:84/transparencia/default/contratacoes/mostrarcontratos?id=1638:  80%|████████  | 8/10 [00:03<00:00,  2.72it/s]\u001b[A\n",
      "Processing http://sistemas.macae.rj.gov.br:84/transparencia/default/contratacoes/mostrarcontratos?id=1638:  90%|█████████ | 9/10 [00:03<00:00,  2.64it/s]\u001b[A\n",
      "Processing http://sistemas.macae.rj.gov.br:84/transparencia/default/contratacoes/mostrarcontratos?id=1611:  90%|█████████ | 9/10 [00:03<00:00,  2.64it/s]\u001b[A\n",
      "Processing http://sistemas.macae.rj.gov.br:84/transparencia/default/contratacoes/mostrarcontratos?id=1611: 100%|██████████| 10/10 [00:03<00:00,  2.54it/s]\u001b[A\n"
     ]
    }
   ],
   "source": [
    "a,b =get_url_pdfs(contratos)"
   ]
  },
  {
   "cell_type": "code",
   "execution_count": null,
   "metadata": {},
   "outputs": [],
   "source": []
  }
 ],
 "metadata": {
  "kernelspec": {
   "display_name": "Python 3",
   "language": "python",
   "name": "python3"
  },
  "language_info": {
   "codemirror_mode": {
    "name": "ipython",
    "version": 3
   },
   "file_extension": ".py",
   "mimetype": "text/x-python",
   "name": "python",
   "nbconvert_exporter": "python",
   "pygments_lexer": "ipython3",
   "version": "3.6.9"
  }
 },
 "nbformat": 4,
 "nbformat_minor": 4
}

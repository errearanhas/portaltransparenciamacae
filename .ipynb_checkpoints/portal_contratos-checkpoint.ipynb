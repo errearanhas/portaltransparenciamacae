{
 "cells": [
  {
   "cell_type": "code",
   "execution_count": 563,
   "metadata": {},
   "outputs": [],
   "source": [
    "import pandas as pd\n",
    "from selenium import webdriver\n",
    "from selenium.webdriver.support.ui import Select\n",
    "from selenium.webdriver.support.ui import WebDriverWait\n",
    "from selenium.webdriver.support import expected_conditions as EC\n",
    "from selenium.webdriver.common.by import By\n",
    "from bs4 import BeautifulSoup\n",
    "import pandas as pd\n",
    "import numpy as np\n",
    "import time"
   ]
  },
  {
   "cell_type": "code",
   "execution_count": 564,
   "metadata": {},
   "outputs": [],
   "source": [
    "url_contratos = \"http://sistemas.macae.rj.gov.br:84/transparencia/contratacoes/contratos\""
   ]
  },
  {
   "cell_type": "code",
   "execution_count": 565,
   "metadata": {},
   "outputs": [],
   "source": [
    "def get_one_table():\n",
    "    page = BeautifulSoup(driver.page_source, 'lxml')\n",
    "    element = page.find(id='tb-result_wrapper')\n",
    "    table = pd.read_html(str(element))[0]\n",
    "    return table"
   ]
  },
  {
   "cell_type": "code",
   "execution_count": 566,
   "metadata": {},
   "outputs": [],
   "source": [
    "def get_number_of_pages():\n",
    "    html_list = driver.find_element_by_xpath('//*[@id=\"tb-result_paginate\"]/div/ul')\n",
    "    last = html_list.find_elements_by_tag_name(\"li\")[-2].text\n",
    "    last = int(last)\n",
    "    return last"
   ]
  },
  {
   "cell_type": "code",
   "execution_count": 567,
   "metadata": {},
   "outputs": [],
   "source": [
    "def goto_next_page():\n",
    "    try:\n",
    "        elem = driver.find_element_by_link_text('Próximo')\n",
    "        elem.click()\n",
    "    except:\n",
    "        pass\n",
    "    return"
   ]
  },
  {
   "cell_type": "code",
   "execution_count": 568,
   "metadata": {},
   "outputs": [],
   "source": [
    "def get_full_table():\n",
    "    full_table = pd.DataFrame()\n",
    "    last = get_number_of_pages()\n",
    "    for i in range(last):\n",
    "        one_table = get_one_table()\n",
    "        full_table = full_table.append(one_table)\n",
    "        goto_next_page()\n",
    "        time.sleep(1)  \n",
    "    return full_table"
   ]
  },
  {
   "cell_type": "code",
   "execution_count": 570,
   "metadata": {},
   "outputs": [],
   "source": [
    "def main():\n",
    "    print('Processo Iniciado ---- ' + time.ctime(time.time()))\n",
    "    options = webdriver.ChromeOptions()\n",
    "    options.add_argument('--no-sandbox')\n",
    "    options.add_argument('--disable-gpu')\n",
    "    # options.add_argument('--headless')\n",
    "\n",
    "    driver = webdriver.Chrome(options=options, executable_path='/home/rsa/PycharmProjects/selenium/portaltransparenciamacae/chromedriver')\n",
    "    driver.implicitly_wait(10)  # seconds\n",
    "\n",
    "    # Open Chrome\n",
    "    driver.get(url_contratos)\n",
    "    button = driver.find_element_by_id('btn-buscar')\n",
    "    button.click()\n",
    "    full_table = get_full_table()\n",
    "    print('Captura finalizada ---- ' + time.ctime(time.time()))\n",
    "    return full_table"
   ]
  }
 ],
 "metadata": {
  "kernelspec": {
   "display_name": "Python 3",
   "language": "python",
   "name": "python3"
  },
  "language_info": {
   "codemirror_mode": {
    "name": "ipython",
    "version": 3
   },
   "file_extension": ".py",
   "mimetype": "text/x-python",
   "name": "python",
   "nbconvert_exporter": "python",
   "pygments_lexer": "ipython3",
   "version": "3.7.4"
  }
 },
 "nbformat": 4,
 "nbformat_minor": 4
}
